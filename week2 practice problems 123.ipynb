{
 "cells": [
  {
   "cell_type": "code",
   "execution_count": 29,
   "id": "fee055ec",
   "metadata": {},
   "outputs": [
    {
     "name": "stdout",
     "output_type": "stream",
     "text": [
      "[6, 2, 3, 4, 5, 1]\n"
     ]
    }
   ],
   "source": [
    "#Write a program to interchange the firstand last element in the list\n",
    "L1 = [1,2,3,4,5,6]\n",
    "def interchange(a):\n",
    "    temp = 0\n",
    "    temp = L1[0]\n",
    "    L1[0] = L1[-1]\n",
    "    L1[-1] = temp\n",
    "    print(L1)\n",
    "interchange(L1)\n"
   ]
  },
  {
   "cell_type": "code",
   "execution_count": 22,
   "id": "d35f820f",
   "metadata": {},
   "outputs": [
    {
     "name": "stdout",
     "output_type": "stream",
     "text": [
      "[6, 2, 3, 4, 5, 1]\n"
     ]
    }
   ],
   "source": [
    "#Write a program to interchange the firstand last element in the list\n",
    "L1 = [1,2,3,4,5,6]\n",
    "L1[0],L1[5] = L1[5],L1[0]\n",
    "print(L1)"
   ]
  },
  {
   "cell_type": "code",
   "execution_count": 45,
   "id": "a5a0d237",
   "metadata": {},
   "outputs": [
    {
     "name": "stdout",
     "output_type": "stream",
     "text": [
      "11\n"
     ]
    }
   ],
   "source": [
    "#Write a program to compute the minimumnumber from the list of integers\n",
    "L1 = [44,22,66,99,11]\n",
    "minum = L1[0]\n",
    "for i in range(len(L1)):\n",
    "    if L1[i] < minum:\n",
    "        minum = L1[i]\n",
    "print(minum)\n",
    "        \n"
   ]
  },
  {
   "cell_type": "code",
   "execution_count": 58,
   "id": "64e8b433",
   "metadata": {},
   "outputs": [
    {
     "name": "stdout",
     "output_type": "stream",
     "text": [
      "['My', 'name', 'is', 'sai', 'sruthi', 'Manukonda', 'Aman']\n",
      "My\n",
      "name\n",
      "is\n",
      "sruthi\n",
      "Aman\n"
     ]
    }
   ],
   "source": [
    "#Write a program to print even length wordsfrom a given string\n",
    "sentence = 'My name is sai sruthi Manukonda Aman'\n",
    "words = sentence.split()\n",
    "print(words)\n",
    "for i in range(len(words)):\n",
    "    if (len(words[i])) % 2 == 0:\n",
    "        print(words[i])\n",
    "    \n",
    "    \n",
    "    \n",
    "    \n",
    "    \n",
    "\n",
    "\n",
    "    "
   ]
  }
 ],
 "metadata": {
  "kernelspec": {
   "display_name": "Python 3 (ipykernel)",
   "language": "python",
   "name": "python3"
  },
  "language_info": {
   "codemirror_mode": {
    "name": "ipython",
    "version": 3
   },
   "file_extension": ".py",
   "mimetype": "text/x-python",
   "name": "python",
   "nbconvert_exporter": "python",
   "pygments_lexer": "ipython3",
   "version": "3.9.7"
  }
 },
 "nbformat": 4,
 "nbformat_minor": 5
}
